{
 "cells": [
  {
   "cell_type": "code",
   "execution_count": null,
   "metadata": {},
   "outputs": [],
   "source": [
    "import pymongo\n",
    "import pandas as pd\n",
    "\n",
    "# Connect to MongoDB\n",
    "client = pymongo.MongoClient('localhost', 27017)\n",
    "db = client['test']\n",
    "collection = db['test']\n",
    "\n",
    "# Read data from MongoDB\n",
    "df = pd.DataFrame(list(collection.find()))\n",
    "\n",
    "# Print the first 5 rows of the dataframe\n",
    "df.head()\n",
    "\n",
    "# Print the number of rows and columns of the dataframe\n",
    "df.shape\n",
    "\n",
    "\n"
   ]
  }
 ],
 "metadata": {
  "language_info": {
   "name": "python"
  },
  "orig_nbformat": 4
 },
 "nbformat": 4,
 "nbformat_minor": 2
}
